{
 "cells": [
  {
   "metadata": {
    "ExecuteTime": {
     "end_time": "2024-11-09T13:15:16.967947Z",
     "start_time": "2024-11-09T13:15:16.963463Z"
    }
   },
   "cell_type": "code",
   "source": [
    "import numpy as np\n",
    "import yfinance as yf\n",
    "import pandas as pd\n",
    "import itertools\n",
    "import matplotlib.pyplot as plt"
   ],
   "id": "a072668cf79111e9",
   "outputs": [],
   "execution_count": 14
  },
  {
   "metadata": {
    "ExecuteTime": {
     "end_time": "2024-11-09T13:33:55.631810Z",
     "start_time": "2024-11-09T13:33:55.431677Z"
    }
   },
   "cell_type": "code",
   "source": [
    "tickers = [\"AAPL\", \"MSFT\", \"AMZN\", \"GOOGL\", \"TSLA\"]\n",
    "data = yf.download(tickers, start='2020-01-01', end='2023-01-01', auto_adjust=True)\n",
    "returns = data['Close'].pct_change().dropna()\n",
    "\n",
    "cov_matrix = returns.cov()\n",
    "cov_matrix = cov_matrix.values\n",
    "cov_matrix"
   ],
   "id": "dd17d68ddca71232",
   "outputs": [
    {
     "name": "stderr",
     "output_type": "stream",
     "text": [
      "[*********************100%***********************]  5 of 5 completed\n"
     ]
    },
    {
     "data": {
      "text/plain": [
       "array([[0.00044494, 0.00031019, 0.00029237, 0.00031874, 0.00040597],\n",
       "       [0.00031019, 0.00050867, 0.00030457, 0.00031536, 0.00040462],\n",
       "       [0.00029237, 0.00030457, 0.00039117, 0.00031269, 0.0003358 ],\n",
       "       [0.00031874, 0.00031536, 0.00031269, 0.00038217, 0.00037238],\n",
       "       [0.00040597, 0.00040462, 0.0003358 , 0.00037238, 0.00170461]])"
      ]
     },
     "execution_count": 33,
     "metadata": {},
     "output_type": "execute_result"
    }
   ],
   "execution_count": 33
  },
  {
   "metadata": {
    "ExecuteTime": {
     "end_time": "2024-11-09T13:35:40.085306Z",
     "start_time": "2024-11-09T13:35:05.737752Z"
    }
   },
   "cell_type": "code",
   "source": [
    "covar = cov_matrix * 1000\n",
    "class Estimate:\n",
    "    def __init__(self, ticker):\n",
    "        self.ticker = ticker\n",
    "        self.my_weights = self.valid_weights()\n",
    "        self.stocks_data = self.download_stock_data()  \n",
    "        self.returns, self.risks = self.calculate_return_risk_all()  \n",
    "\n",
    "    def download_stock_data(self):\n",
    "        stock_data = {}\n",
    "        for symbol in self.ticker:\n",
    "            data = yf.download(symbol, start=\"2020-01-01\", end=\"2023-01-01\")\n",
    "            data['Daily Return'] = data['Adj Close'].pct_change()\n",
    "            stock_data[symbol] = data\n",
    "        return stock_data\n",
    "\n",
    "    def calculate_return_risk(self, symbol):\n",
    "        data = self.stocks_data[symbol]\n",
    "        average_daily_return = data['Daily Return'].mean()\n",
    "        annualized_return = (1 + average_daily_return) ** 252 - 1\n",
    "        daily_volatility = data['Daily Return'].std()\n",
    "        annualized_volatility = daily_volatility * (252 ** 0.5)\n",
    "        return annualized_return, annualized_volatility\n",
    "\n",
    "    def calculate_return_risk_all(self):\n",
    "        returns = []\n",
    "        risks = []\n",
    "        for symbol in self.ticker:\n",
    "            annualized_return, annualized_volatility = self.calculate_return_risk(symbol)\n",
    "            returns.append(annualized_return)\n",
    "            risks.append(annualized_volatility)\n",
    "        return np.array(returns), np.array(risks)  \n",
    "\n",
    "    @classmethod\n",
    "    def valid_weights(cls):\n",
    "        possible_values = np.arange(0, 1.1, 0.05)\n",
    "        all_combinations = list(itertools.product(possible_values, repeat=5))\n",
    "        valid_combinations = [comb for comb in all_combinations if sum(comb) == 1.0]\n",
    "        return np.array(valid_combinations)\n",
    "\n",
    "    def return_risk_together(self, weights, covar):\n",
    "        expected_together = weights @ self.returns  \n",
    "        np.fill_diagonal(covar, 0)\n",
    "        risk_together = (weights**2 @ self.risks**2 + weights @ covar @ weights.T) ** 0.5  \n",
    "        return expected_together, risk_together\n",
    "\n",
    "    def return_risk_together_forAllweights(self, covar):\n",
    "        calculated_ret_risk = []\n",
    "        for weights in self.my_weights:\n",
    "            calculated_ret_risk.append(self.return_risk_together(weights, covar))\n",
    "        return self.my_weights, calculated_ret_risk\n",
    "\n",
    "    def non_dominated_points(self):\n",
    "        points = np.array(self.return_risk_together_forAllweights(covar)[1])\n",
    "        non_dominated = []\n",
    "        non_dominated_indices = []\n",
    "        points_sorted = points[points[:, 0].argsort()]  \n",
    "\n",
    "        for i in range(len(points_sorted)):\n",
    "            dominated = False\n",
    "            for j in range(len(points_sorted)):\n",
    "                if i != j:\n",
    "                    if points_sorted[i, 0] == points_sorted[j, 0]:\n",
    "                        if points_sorted[i, 1] < points_sorted[j, 1]:\n",
    "                            dominated = True\n",
    "                            break\n",
    "                    elif points_sorted[j, 0] < points_sorted[i, 0] and points_sorted[j, 1] > points_sorted[i, 1]:\n",
    "                        dominated = True\n",
    "                        break\n",
    "            if not dominated:\n",
    "                non_dominated.append(points_sorted[i])\n",
    "                non_dominated_indices.append(i)\n",
    "\n",
    "        return np.array(non_dominated), non_dominated_indices\n",
    "\n",
    "stocks = Estimate([\"AAPL\", \"MSFT\", \"AMZN\", \"GOOGL\", \"TSLA\"])\n",
    "non_dominated_p, non_dominated_p_indexes = stocks.non_dominated_points()\n",
    "every_weights, every_expected_risk = stocks.return_risk_together_forAllweights(covar)\n",
    "every_expected_risk = np.array(every_expected_risk)"
   ],
   "id": "78216bb1eb91cb83",
   "outputs": [
    {
     "name": "stderr",
     "output_type": "stream",
     "text": [
      "[*********************100%***********************]  1 of 1 completed\n",
      "[*********************100%***********************]  1 of 1 completed\n",
      "[*********************100%***********************]  1 of 1 completed\n",
      "[*********************100%***********************]  1 of 1 completed\n",
      "[*********************100%***********************]  1 of 1 completed\n"
     ]
    }
   ],
   "execution_count": 36
  },
  {
   "metadata": {},
   "cell_type": "markdown",
   "source": [
    "$$ E(R_P) = \\sum_{i=1}^{N} w_i E(R_i) $$\n",
    "\\begin{equation} \\sigma_p^2 = \\left( \\sum_{i=1}^{N} w_i^2 \\sigma_i^2 + \\sum_{i,j=1, i \\neq j}^{N} w_i w_j \\text{Cov}(i,j) \\right), \\quad \\sum_{i=1}^{N} w_i = 1 \\end{equation}\n",
    "we can write this in Matrix form:\n",
    "\\begin{equation} \\mathbf{W} \\mathbf{E} \\end{equation}\n",
    "\\begin{equation} \\mathbf{W} \\boldsymbol{\\sigma} + \\mathbf{W} \\mathbf{Cov} \\mathbf{W}^\\mathrm{T} \\end{equation}"
   ],
   "id": "bb11accad6f010ff"
  },
  {
   "metadata": {
    "ExecuteTime": {
     "end_time": "2024-11-09T13:35:48.409238Z",
     "start_time": "2024-11-09T13:35:47.874121Z"
    }
   },
   "cell_type": "code",
   "source": [
    "every_expected_risk = np.array(every_expected_risk)\n",
    "plt.scatter(every_expected_risk[:,0],every_expected_risk[:,1])\n",
    "plt.scatter(non_dominated_p[:,0],non_dominated_p[:,1])\n",
    "plt.xlabel('Portfolio Standard Deviation')\n",
    "plt.ylabel('Portfolio Expected Return')\n",
    "plt.title('Risk and Expected  for every weights')\n",
    "plt.grid(True)"
   ],
   "id": "cb9022308543d8aa",
   "outputs": [
    {
     "data": {
      "text/plain": [
       "<Figure size 640x480 with 1 Axes>"
      ],
      "image/png": "[encoded data removed]"
     },
     "metadata": {},
     "output_type": "display_data"
    }
   ],
   "execution_count": 37
  },
  {
   "metadata": {
    "ExecuteTime": {
     "end_time": "2024-11-09T13:40:12.951589Z",
     "start_time": "2024-11-09T13:40:10.055597Z"
    }
   },
   "cell_type": "code",
   "source": [
    "results = np.concatenate((stocks.valid_weights()[non_dominated_p_indexes],non_dominated_p) , axis=1)\n",
    "column_name = ['w1' , 'w2' , 'w3' , 'w4' , 'w5' ,'Expected' , 'Risk']\n",
    "df = pd.DataFrame(results, columns=column_name)\n",
    "df"
   ],
   "id": "98a5ee1e968463a4",
   "outputs": [
    {
     "data": {
      "text/plain": [
       "       w1    w2    w3    w4    w5  Expected      Risk\n",
       "0    0.00  0.00  0.00  0.00  1.00  0.036196  0.390844\n",
       "1    0.00  0.00  0.00  0.05  0.95  0.042152  0.409718\n",
       "2    0.00  0.00  0.00  0.15  0.85  0.048108  0.425689\n",
       "3    0.00  0.00  0.00  0.25  0.75  0.051631  0.425987\n",
       "4    0.00  0.00  0.00  0.30  0.70  0.054063  0.439074\n",
       "..    ...   ...   ...   ...   ...       ...       ...\n",
       "320  0.95  0.00  0.00  0.00  0.05  1.054848  0.708934\n",
       "321  0.95  0.00  0.00  0.05  0.00  1.060804  0.711322\n",
       "322  0.95  0.00  0.05  0.00  0.00  1.064327  0.713475\n",
       "323  0.95  0.05  0.00  0.00  0.00  1.067748  0.713592\n",
       "324  1.00  0.00  0.00  0.00  0.00  1.108462  0.721882\n",
       "\n",
       "[325 rows x 7 columns]"
      ],
      "text/html": [
       "<div>\n",
       "<style scoped>\n",
       "    .dataframe tbody tr th:only-of-type {\n",
       "        vertical-align: middle;\n",
       "    }\n",
       "\n",
       "    .dataframe tbody tr th {\n",
       "        vertical-align: top;\n",
       "    }\n",
       "\n",
       "    .dataframe thead th {\n",
       "        text-align: right;\n",
       "    }\n",
       "</style>\n",
       "<table border=\"1\" class=\"dataframe\">\n",
       "  <thead>\n",
       "    <tr style=\"text-align: right;\">\n",
       "      <th></th>\n",
       "      <th>w1</th>\n",
       "      <th>w2</th>\n",
       "      <th>w3</th>\n",
       "      <th>w4</th>\n",
       "      <th>w5</th>\n",
       "      <th>Expected</th>\n",
       "      <th>Risk</th>\n",
       "    </tr>\n",
       "  </thead>\n",
       "  <tbody>\n",
       "    <tr>\n",
       "      <th>0</th>\n",
       "      <td>0.00</td>\n",
       "      <td>0.00</td>\n",
       "      <td>0.00</td>\n",
       "      <td>0.00</td>\n",
       "      <td>1.00</td>\n",
       "      <td>0.036196</td>\n",
       "      <td>0.390844</td>\n",
       "    </tr>\n",
       "    <tr>\n",
       "      <th>1</th>\n",
       "      <td>0.00</td>\n",
       "      <td>0.00</td>\n",
       "      <td>0.00</td>\n",
       "      <td>0.05</td>\n",
       "      <td>0.95</td>\n",
       "      <td>0.042152</td>\n",
       "      <td>0.409718</td>\n",
       "    </tr>\n",
       "    <tr>\n",
       "      <th>2</th>\n",
       "      <td>0.00</td>\n",
       "      <td>0.00</td>\n",
       "      <td>0.00</td>\n",
       "      <td>0.15</td>\n",
       "      <td>0.85</td>\n",
       "      <td>0.048108</td>\n",
       "      <td>0.425689</td>\n",
       "    </tr>\n",
       "    <tr>\n",
       "      <th>3</th>\n",
       "      <td>0.00</td>\n",
       "      <td>0.00</td>\n",
       "      <td>0.00</td>\n",
       "      <td>0.25</td>\n",
       "      <td>0.75</td>\n",
       "      <td>0.051631</td>\n",
       "      <td>0.425987</td>\n",
       "    </tr>\n",
       "    <tr>\n",
       "      <th>4</th>\n",
       "      <td>0.00</td>\n",
       "      <td>0.00</td>\n",
       "      <td>0.00</td>\n",
       "      <td>0.30</td>\n",
       "      <td>0.70</td>\n",
       "      <td>0.054063</td>\n",
       "      <td>0.439074</td>\n",
       "    </tr>\n",
       "    <tr>\n",
       "      <th>...</th>\n",
       "      <td>...</td>\n",
       "      <td>...</td>\n",
       "      <td>...</td>\n",
       "      <td>...</td>\n",
       "      <td>...</td>\n",
       "      <td>...</td>\n",
       "      <td>...</td>\n",
       "    </tr>\n",
       "    <tr>\n",
       "      <th>320</th>\n",
       "      <td>0.95</td>\n",
       "      <td>0.00</td>\n",
       "      <td>0.00</td>\n",
       "      <td>0.00</td>\n",
       "      <td>0.05</td>\n",
       "      <td>1.054848</td>\n",
       "      <td>0.708934</td>\n",
       "    </tr>\n",
       "    <tr>\n",
       "      <th>321</th>\n",
       "      <td>0.95</td>\n",
       "      <td>0.00</td>\n",
       "      <td>0.00</td>\n",
       "      <td>0.05</td>\n",
       "      <td>0.00</td>\n",
       "      <td>1.060804</td>\n",
       "      <td>0.711322</td>\n",
       "    </tr>\n",
       "    <tr>\n",
       "      <th>322</th>\n",
       "      <td>0.95</td>\n",
       "      <td>0.00</td>\n",
       "      <td>0.05</td>\n",
       "      <td>0.00</td>\n",
       "      <td>0.00</td>\n",
       "      <td>1.064327</td>\n",
       "      <td>0.713475</td>\n",
       "    </tr>\n",
       "    <tr>\n",
       "      <th>323</th>\n",
       "      <td>0.95</td>\n",
       "      <td>0.05</td>\n",
       "      <td>0.00</td>\n",
       "      <td>0.00</td>\n",
       "      <td>0.00</td>\n",
       "      <td>1.067748</td>\n",
       "      <td>0.713592</td>\n",
       "    </tr>\n",
       "    <tr>\n",
       "      <th>324</th>\n",
       "      <td>1.00</td>\n",
       "      <td>0.00</td>\n",
       "      <td>0.00</td>\n",
       "      <td>0.00</td>\n",
       "      <td>0.00</td>\n",
       "      <td>1.108462</td>\n",
       "      <td>0.721882</td>\n",
       "    </tr>\n",
       "  </tbody>\n",
       "</table>\n",
       "<p>325 rows × 7 columns</p>\n",
       "</div>"
      ]
     },
     "execution_count": 38,
     "metadata": {},
     "output_type": "execute_result"
    }
   ],
   "execution_count": 38
  }
 ],
 "metadata": {
  "kernelspec": {
   "display_name": "Python 3",
   "language": "python",
   "name": "python3"
  },
  "language_info": {
   "codemirror_mode": {
    "name": "ipython",
    "version": 2
   },
   "file_extension": ".py",
   "mimetype": "text/x-python",
   "name": "python",
   "nbconvert_exporter": "python",
   "pygments_lexer": "ipython2",
   "version": "2.7.6"
  }
 },
 "nbformat": 4,
 "nbformat_minor": 5
}
